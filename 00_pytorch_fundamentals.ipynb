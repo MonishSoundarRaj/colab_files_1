{
  "nbformat": 4,
  "nbformat_minor": 0,
  "metadata": {
    "colab": {
      "provenance": [],
      "gpuType": "T4",
      "authorship_tag": "ABX9TyNu+9ePg3n5vPJF/0+xy+Iv",
      "include_colab_link": true
    },
    "kernelspec": {
      "name": "python3",
      "display_name": "Python 3"
    },
    "language_info": {
      "name": "python"
    }
  },
  "cells": [
    {
      "cell_type": "markdown",
      "metadata": {
        "id": "view-in-github",
        "colab_type": "text"
      },
      "source": [
        "<a href=\"https://colab.research.google.com/github/MonishSoundarRaj/colab_files_1/blob/main/00_pytorch_fundamentals.ipynb\" target=\"_parent\"><img src=\"https://colab.research.google.com/assets/colab-badge.svg\" alt=\"Open In Colab\"/></a>"
      ]
    },
    {
      "cell_type": "code",
      "execution_count": null,
      "metadata": {
        "colab": {
          "base_uri": "https://localhost:8080/"
        },
        "id": "MEMOfxyvT3ct",
        "outputId": "a3d24427-f3a0-411b-f91e-ce7b7c0636cf"
      },
      "outputs": [
        {
          "output_type": "stream",
          "name": "stdout",
          "text": [
            "2.0.1+cu118\n"
          ]
        }
      ],
      "source": [
        "import torch\n",
        "import pandas as pd\n",
        "import numpy as np\n",
        "import matplotlib.pyplot as plt\n",
        "\n",
        "print(torch.__version__)"
      ]
    },
    {
      "cell_type": "code",
      "source": [
        "!nvidia-smi"
      ],
      "metadata": {
        "colab": {
          "base_uri": "https://localhost:8080/"
        },
        "id": "aE8xlsgzVtTN",
        "outputId": "4af35870-379a-4496-a25e-06cbc90e756e"
      },
      "execution_count": null,
      "outputs": [
        {
          "output_type": "stream",
          "name": "stdout",
          "text": [
            "/bin/bash: line 1: nvidia-smi: command not found\n"
          ]
        }
      ]
    },
    {
      "cell_type": "code",
      "source": [
        "# scalar tensor\n",
        "scalar = torch.tensor([7,3,4])\n",
        "print(scalar)"
      ],
      "metadata": {
        "colab": {
          "base_uri": "https://localhost:8080/"
        },
        "id": "mlh1iaWNWH97",
        "outputId": "7e9b64f2-074e-494e-892f-66ddc61799b7"
      },
      "execution_count": null,
      "outputs": [
        {
          "output_type": "stream",
          "name": "stdout",
          "text": [
            "tensor([7, 3, 4])\n"
          ]
        }
      ]
    },
    {
      "cell_type": "code",
      "source": [
        "scalar[2]"
      ],
      "metadata": {
        "colab": {
          "base_uri": "https://localhost:8080/"
        },
        "id": "XR-Fhi76tt4c",
        "outputId": "48abe1ef-b122-4d33-babe-2216153738c9"
      },
      "execution_count": null,
      "outputs": [
        {
          "output_type": "execute_result",
          "data": {
            "text/plain": [
              "tensor(4)"
            ]
          },
          "metadata": {},
          "execution_count": 58
        }
      ]
    },
    {
      "cell_type": "code",
      "source": [
        "scalar.ndim"
      ],
      "metadata": {
        "colab": {
          "base_uri": "https://localhost:8080/"
        },
        "id": "VbW8u8KDupiz",
        "outputId": "a377d35f-0d20-45a8-ae65-5e1d74604b5e"
      },
      "execution_count": null,
      "outputs": [
        {
          "output_type": "execute_result",
          "data": {
            "text/plain": [
              "1"
            ]
          },
          "metadata": {},
          "execution_count": 59
        }
      ]
    },
    {
      "cell_type": "code",
      "source": [
        "#Tensor\n",
        "tensor = torch.tensor([ [[4,8],[5,2],[5,5]],\n",
        "                        [[2,2], [2,3], [4,4]],\n",
        "                        [[3,3], [3,4],[5,6]]])\n",
        "tensor"
      ],
      "metadata": {
        "colab": {
          "base_uri": "https://localhost:8080/"
        },
        "id": "kYOVuXFdvBdK",
        "outputId": "1d64ad8a-d653-492a-f246-806d5349297a"
      },
      "execution_count": null,
      "outputs": [
        {
          "output_type": "execute_result",
          "data": {
            "text/plain": [
              "tensor([[[4, 8],\n",
              "         [5, 2],\n",
              "         [5, 5]],\n",
              "\n",
              "        [[2, 2],\n",
              "         [2, 3],\n",
              "         [4, 4]],\n",
              "\n",
              "        [[3, 3],\n",
              "         [3, 4],\n",
              "         [5, 6]]])"
            ]
          },
          "metadata": {},
          "execution_count": 60
        }
      ]
    },
    {
      "cell_type": "code",
      "source": [
        "tensor.ndim"
      ],
      "metadata": {
        "colab": {
          "base_uri": "https://localhost:8080/"
        },
        "id": "-rbJldynwC2w",
        "outputId": "cdc34c2a-a500-4722-a74c-8d63b6128587"
      },
      "execution_count": null,
      "outputs": [
        {
          "output_type": "execute_result",
          "data": {
            "text/plain": [
              "3"
            ]
          },
          "metadata": {},
          "execution_count": 61
        }
      ]
    },
    {
      "cell_type": "code",
      "source": [
        "tensor.shape"
      ],
      "metadata": {
        "colab": {
          "base_uri": "https://localhost:8080/"
        },
        "id": "4Fud2GZ7wTn4",
        "outputId": "a9a6c71b-c6a7-4823-a264-b2b3c887cad2"
      },
      "execution_count": null,
      "outputs": [
        {
          "output_type": "execute_result",
          "data": {
            "text/plain": [
              "torch.Size([3, 3, 2])"
            ]
          },
          "metadata": {},
          "execution_count": 62
        }
      ]
    },
    {
      "cell_type": "code",
      "source": [
        "# random Tensor -> why? random tensors are important because the way many neural networks learn is that they start with tensors full of random numbers and then adjust thise random numbers to better represent the sata.\n",
        "\n",
        "random_tensor = torch.rand(2, 6, 3, 4)\n"
      ],
      "metadata": {
        "id": "qKI133bQwXc_"
      },
      "execution_count": null,
      "outputs": []
    },
    {
      "cell_type": "code",
      "source": [
        "random_tensor"
      ],
      "metadata": {
        "colab": {
          "base_uri": "https://localhost:8080/"
        },
        "id": "V49tYOrZzjYj",
        "outputId": "0175c0dd-45ff-48fe-d66e-798c3d07f848"
      },
      "execution_count": null,
      "outputs": [
        {
          "output_type": "execute_result",
          "data": {
            "text/plain": [
              "tensor([[[[0.7255, 0.2870, 0.4022, 0.8707],\n",
              "          [0.9714, 0.4351, 0.4254, 0.0780],\n",
              "          [0.5760, 0.3203, 0.5009, 0.4528]],\n",
              "\n",
              "         [[0.5095, 0.2226, 0.9199, 0.3946],\n",
              "          [0.0812, 0.8799, 0.1225, 0.9499],\n",
              "          [0.2648, 0.9189, 0.1288, 0.3098]],\n",
              "\n",
              "         [[0.4645, 0.4712, 0.6741, 0.1872],\n",
              "          [0.2341, 0.4448, 0.7003, 0.1203],\n",
              "          [0.1230, 0.8597, 0.7414, 0.5728]],\n",
              "\n",
              "         [[0.4204, 0.9027, 0.9842, 0.3846],\n",
              "          [0.3203, 0.1975, 0.4926, 0.7546],\n",
              "          [0.9074, 0.9417, 0.8262, 0.1572]],\n",
              "\n",
              "         [[0.0429, 0.0160, 0.5572, 0.8359],\n",
              "          [0.8447, 0.7452, 0.8289, 0.7254],\n",
              "          [0.9730, 0.3250, 0.8552, 0.5513]],\n",
              "\n",
              "         [[0.8676, 0.4068, 0.9422, 0.6725],\n",
              "          [0.9744, 0.7762, 0.6820, 0.7475],\n",
              "          [0.5697, 0.7958, 0.1212, 0.0465]]],\n",
              "\n",
              "\n",
              "        [[[0.0463, 0.1086, 0.1889, 0.3867],\n",
              "          [0.7103, 0.5227, 0.1970, 0.3147],\n",
              "          [0.3492, 0.5201, 0.1736, 0.9811]],\n",
              "\n",
              "         [[0.4270, 0.7823, 0.8809, 0.8073],\n",
              "          [0.1189, 0.4988, 0.7252, 0.9946],\n",
              "          [0.5314, 0.8343, 0.3017, 0.1324]],\n",
              "\n",
              "         [[0.1874, 0.6506, 0.3712, 0.5449],\n",
              "          [0.8719, 0.6618, 0.7820, 0.7977],\n",
              "          [0.3473, 0.2840, 0.5089, 0.4315]],\n",
              "\n",
              "         [[0.5715, 0.5421, 0.5742, 0.1340],\n",
              "          [0.1863, 0.1864, 0.7259, 0.0783],\n",
              "          [0.4884, 0.7520, 0.7731, 0.6308]],\n",
              "\n",
              "         [[0.2098, 0.3841, 0.0804, 0.5528],\n",
              "          [0.3644, 0.8812, 0.7138, 0.5145],\n",
              "          [0.6263, 0.7312, 0.9570, 0.7603]],\n",
              "\n",
              "         [[0.7932, 0.7241, 0.3964, 0.6067],\n",
              "          [0.9830, 0.3495, 0.0940, 0.9162],\n",
              "          [0.5879, 0.8793, 0.8059, 0.0088]]]])"
            ]
          },
          "metadata": {},
          "execution_count": 64
        }
      ]
    },
    {
      "cell_type": "code",
      "source": [
        "random_tensor.ndim"
      ],
      "metadata": {
        "colab": {
          "base_uri": "https://localhost:8080/"
        },
        "id": "a0mtN5Kkzldj",
        "outputId": "9d8378ab-f5c0-4508-ec7f-3ac8e4036851"
      },
      "execution_count": null,
      "outputs": [
        {
          "output_type": "execute_result",
          "data": {
            "text/plain": [
              "4"
            ]
          },
          "metadata": {},
          "execution_count": 65
        }
      ]
    },
    {
      "cell_type": "code",
      "source": [
        "random_image_size_tensor = torch.rand(224,224,3)\n",
        "random_image_size_tensor.shape, random_image_size_tensor.ndim"
      ],
      "metadata": {
        "colab": {
          "base_uri": "https://localhost:8080/"
        },
        "id": "3_LoQ2DX0Gaz",
        "outputId": "459f0802-f708-442d-a6fd-e85fb136bfc5"
      },
      "execution_count": null,
      "outputs": [
        {
          "output_type": "execute_result",
          "data": {
            "text/plain": [
              "(torch.Size([224, 224, 3]), 3)"
            ]
          },
          "metadata": {},
          "execution_count": 66
        }
      ]
    },
    {
      "cell_type": "code",
      "source": [
        "random_image_size_tensor"
      ],
      "metadata": {
        "colab": {
          "base_uri": "https://localhost:8080/"
        },
        "id": "mlebw1Yl0tay",
        "outputId": "3296a248-267d-4304-8557-fbbcb39bf6e1"
      },
      "execution_count": null,
      "outputs": [
        {
          "output_type": "execute_result",
          "data": {
            "text/plain": [
              "tensor([[[0.7697, 0.4174, 0.7956],\n",
              "         [0.3870, 0.9194, 0.3903],\n",
              "         [0.6133, 0.7190, 0.3191],\n",
              "         ...,\n",
              "         [0.3136, 0.5939, 0.2591],\n",
              "         [0.0193, 0.1372, 0.8505],\n",
              "         [0.0867, 0.3383, 0.3302]],\n",
              "\n",
              "        [[0.0453, 0.9457, 0.6883],\n",
              "         [0.9557, 0.6150, 0.2202],\n",
              "         [0.8678, 0.7146, 0.5238],\n",
              "         ...,\n",
              "         [0.6844, 0.2456, 0.3697],\n",
              "         [0.0627, 0.4845, 0.2259],\n",
              "         [0.3063, 0.1074, 0.6235]],\n",
              "\n",
              "        [[0.1293, 0.5179, 0.9573],\n",
              "         [0.6143, 0.3418, 0.2298],\n",
              "         [0.1319, 0.1187, 0.0035],\n",
              "         ...,\n",
              "         [0.6798, 0.4639, 0.5406],\n",
              "         [0.0172, 0.2996, 0.8277],\n",
              "         [0.5738, 0.7692, 0.6203]],\n",
              "\n",
              "        ...,\n",
              "\n",
              "        [[0.9165, 0.4280, 0.4345],\n",
              "         [0.6005, 0.1015, 0.7179],\n",
              "         [0.4401, 0.8171, 0.9154],\n",
              "         ...,\n",
              "         [0.0276, 0.8962, 0.2175],\n",
              "         [0.1413, 0.0225, 0.0309],\n",
              "         [0.0051, 0.9247, 0.9650]],\n",
              "\n",
              "        [[0.1348, 0.0312, 0.4763],\n",
              "         [0.7765, 0.5188, 0.8415],\n",
              "         [0.6809, 0.3619, 0.8390],\n",
              "         ...,\n",
              "         [0.8567, 0.4502, 0.5916],\n",
              "         [0.7270, 0.1774, 0.4016],\n",
              "         [0.5341, 0.3618, 0.1707]],\n",
              "\n",
              "        [[0.6610, 0.5232, 0.4399],\n",
              "         [0.8464, 0.3866, 0.1048],\n",
              "         [0.7939, 0.1228, 0.2820],\n",
              "         ...,\n",
              "         [0.9835, 0.7435, 0.2300],\n",
              "         [0.5249, 0.1863, 0.3731],\n",
              "         [0.8923, 0.4414, 0.9695]]])"
            ]
          },
          "metadata": {},
          "execution_count": 67
        }
      ]
    },
    {
      "cell_type": "code",
      "source": [
        "# Tensors with zeros\n",
        "zeros = torch.zeros(3,4)\n",
        "ones = torch.ones(4,4)"
      ],
      "metadata": {
        "id": "2CqZ6aPT1D_p"
      },
      "execution_count": null,
      "outputs": []
    },
    {
      "cell_type": "code",
      "source": [
        "multi_tensor = torch.mm(zeros, ones)"
      ],
      "metadata": {
        "id": "Mflyg4UL1Vfh"
      },
      "execution_count": null,
      "outputs": []
    },
    {
      "cell_type": "code",
      "source": [
        "multi_tensor"
      ],
      "metadata": {
        "colab": {
          "base_uri": "https://localhost:8080/"
        },
        "id": "PU4gPLGw1jYx",
        "outputId": "f98ad537-7cc3-46b0-c6fc-605870364982"
      },
      "execution_count": null,
      "outputs": [
        {
          "output_type": "execute_result",
          "data": {
            "text/plain": [
              "tensor([[0., 0., 0., 0.],\n",
              "        [0., 0., 0., 0.],\n",
              "        [0., 0., 0., 0.]])"
            ]
          },
          "metadata": {},
          "execution_count": 70
        }
      ]
    },
    {
      "cell_type": "code",
      "source": [
        "# dtype is nothing but data type\n",
        "\n",
        "ones.dtype"
      ],
      "metadata": {
        "colab": {
          "base_uri": "https://localhost:8080/"
        },
        "id": "byLB3DjX2Jk3",
        "outputId": "acb52b8f-b19d-4d13-92e5-479bab1c5c8b"
      },
      "execution_count": null,
      "outputs": [
        {
          "output_type": "execute_result",
          "data": {
            "text/plain": [
              "torch.float32"
            ]
          },
          "metadata": {},
          "execution_count": 71
        }
      ]
    },
    {
      "cell_type": "code",
      "source": [
        "#  creating a range of tensors and tensors-lie\n",
        "torch.range(1,10)"
      ],
      "metadata": {
        "colab": {
          "base_uri": "https://localhost:8080/"
        },
        "id": "_1DXGQKx2XNQ",
        "outputId": "0e45f53b-f599-4ad2-b3b5-70c92895ed0a"
      },
      "execution_count": null,
      "outputs": [
        {
          "output_type": "stream",
          "name": "stderr",
          "text": [
            "<ipython-input-72-75bf89bfffb4>:2: UserWarning: torch.range is deprecated and will be removed in a future release because its behavior is inconsistent with Python's range builtin. Instead, use torch.arange, which produces values in [start, end).\n",
            "  torch.range(1,10)\n"
          ]
        },
        {
          "output_type": "execute_result",
          "data": {
            "text/plain": [
              "tensor([ 1.,  2.,  3.,  4.,  5.,  6.,  7.,  8.,  9., 10.])"
            ]
          },
          "metadata": {},
          "execution_count": 72
        }
      ]
    },
    {
      "cell_type": "code",
      "source": [
        "one_to_thousand=torch.arange(0,1000,50)"
      ],
      "metadata": {
        "id": "0a4rsI7P21GA"
      },
      "execution_count": null,
      "outputs": []
    },
    {
      "cell_type": "code",
      "source": [
        "# creating tensors like\n",
        "thousand_zeros = torch.zeros_like(input=one_to_thousand)\n",
        "thousand_zeros"
      ],
      "metadata": {
        "colab": {
          "base_uri": "https://localhost:8080/"
        },
        "id": "LGUTZ1ae3FCO",
        "outputId": "bd961287-464c-42b2-ec2f-05de63a64b88"
      },
      "execution_count": null,
      "outputs": [
        {
          "output_type": "execute_result",
          "data": {
            "text/plain": [
              "tensor([0, 0, 0, 0, 0, 0, 0, 0, 0, 0, 0, 0, 0, 0, 0, 0, 0, 0, 0, 0])"
            ]
          },
          "metadata": {},
          "execution_count": 74
        }
      ]
    },
    {
      "cell_type": "code",
      "source": [
        "# device = \"cuda, cpu\" -> what deivec is tour tensor on\n",
        "float_32_tensor = torch.tensor([3.0, 6.0, 9.0], dtype=None, device=None, requires_grad=False) # trackes\n"
      ],
      "metadata": {
        "id": "R96cGrg43vO2"
      },
      "execution_count": null,
      "outputs": []
    },
    {
      "cell_type": "code",
      "source": [
        "float_32_tensor.dtype"
      ],
      "metadata": {
        "colab": {
          "base_uri": "https://localhost:8080/"
        },
        "id": "fiiA6HXBhxuw",
        "outputId": "fc5a05e8-e834-4577-b038-83352950e0fd"
      },
      "execution_count": null,
      "outputs": [
        {
          "output_type": "execute_result",
          "data": {
            "text/plain": [
              "torch.float32"
            ]
          },
          "metadata": {},
          "execution_count": 76
        }
      ]
    },
    {
      "cell_type": "code",
      "source": [
        "float_16_tensor = float_32_tensor.type(torch.float16)\n",
        "float_16_tensor.dtype"
      ],
      "metadata": {
        "colab": {
          "base_uri": "https://localhost:8080/"
        },
        "id": "nEp9MmuXiAci",
        "outputId": "3718202e-8636-4cec-ee79-5ae66919c8b2"
      },
      "execution_count": null,
      "outputs": [
        {
          "output_type": "execute_result",
          "data": {
            "text/plain": [
              "torch.float16"
            ]
          },
          "metadata": {},
          "execution_count": 77
        }
      ]
    },
    {
      "cell_type": "code",
      "source": [
        "float_16_tensor * float_32_tensor"
      ],
      "metadata": {
        "colab": {
          "base_uri": "https://localhost:8080/"
        },
        "id": "wsTBDExdjdWf",
        "outputId": "1f8776d7-1827-4345-8d1b-c137d6fd9094"
      },
      "execution_count": null,
      "outputs": [
        {
          "output_type": "execute_result",
          "data": {
            "text/plain": [
              "tensor([ 9., 36., 81.])"
            ]
          },
          "metadata": {},
          "execution_count": 78
        }
      ]
    },
    {
      "cell_type": "code",
      "source": [
        "int_32_tensor = float_16_tensor.type(torch.int32)"
      ],
      "metadata": {
        "id": "aYO_5FOSjrVu"
      },
      "execution_count": null,
      "outputs": []
    },
    {
      "cell_type": "code",
      "source": [
        "int_32_tensor * float_16_tensor"
      ],
      "metadata": {
        "colab": {
          "base_uri": "https://localhost:8080/"
        },
        "id": "Rz0Ej4l4j5mH",
        "outputId": "265b9c79-0dcb-4e41-9b54-8b8ea92c5821"
      },
      "execution_count": null,
      "outputs": [
        {
          "output_type": "execute_result",
          "data": {
            "text/plain": [
              "tensor([ 9., 36., 81.], dtype=torch.float16)"
            ]
          },
          "metadata": {},
          "execution_count": 80
        }
      ]
    },
    {
      "cell_type": "code",
      "source": [
        "rand_tensor = torch.tensor([1,5,3])"
      ],
      "metadata": {
        "id": "2iGuxMojkCj5"
      },
      "execution_count": null,
      "outputs": []
    },
    {
      "cell_type": "code",
      "source": [
        "# addition\n",
        "rand_tensor + 10"
      ],
      "metadata": {
        "colab": {
          "base_uri": "https://localhost:8080/"
        },
        "id": "AWybUdqGlB-l",
        "outputId": "0906479c-9a0a-43e6-8531-3c3275e15b70"
      },
      "execution_count": null,
      "outputs": [
        {
          "output_type": "execute_result",
          "data": {
            "text/plain": [
              "tensor([11, 15, 13])"
            ]
          },
          "metadata": {},
          "execution_count": 82
        }
      ]
    },
    {
      "cell_type": "code",
      "source": [
        "# mutliply tensor by 10\n",
        "rand_tensor * 10"
      ],
      "metadata": {
        "colab": {
          "base_uri": "https://localhost:8080/"
        },
        "id": "X57H0Z6BlFOt",
        "outputId": "b438fa0d-20d8-4458-d85d-bc5c9bd9c244"
      },
      "execution_count": null,
      "outputs": [
        {
          "output_type": "execute_result",
          "data": {
            "text/plain": [
              "tensor([10, 50, 30])"
            ]
          },
          "metadata": {},
          "execution_count": 83
        }
      ]
    },
    {
      "cell_type": "code",
      "source": [
        "torch.mul(rand_tensor, 10)"
      ],
      "metadata": {
        "colab": {
          "base_uri": "https://localhost:8080/"
        },
        "id": "PxCvDS6RlQIr",
        "outputId": "0f5f2789-7bd5-417e-8c87-cb41418c4306"
      },
      "execution_count": null,
      "outputs": [
        {
          "output_type": "execute_result",
          "data": {
            "text/plain": [
              "tensor([10, 50, 30])"
            ]
          },
          "metadata": {},
          "execution_count": 84
        }
      ]
    },
    {
      "cell_type": "code",
      "source": [
        "torch.sub(rand_tensor, 10)"
      ],
      "metadata": {
        "colab": {
          "base_uri": "https://localhost:8080/"
        },
        "id": "xvb8Gvi8lZAE",
        "outputId": "b7a8e473-a4a2-4faa-e7f1-17c693ad8053"
      },
      "execution_count": null,
      "outputs": [
        {
          "output_type": "execute_result",
          "data": {
            "text/plain": [
              "tensor([-9, -5, -7])"
            ]
          },
          "metadata": {},
          "execution_count": 85
        }
      ]
    },
    {
      "cell_type": "code",
      "source": [
        "rand_tensor*rand_tensor"
      ],
      "metadata": {
        "colab": {
          "base_uri": "https://localhost:8080/"
        },
        "id": "aRXzMv7YljB8",
        "outputId": "bd8eb846-3405-4f9a-f948-351a5811fe21"
      },
      "execution_count": null,
      "outputs": [
        {
          "output_type": "execute_result",
          "data": {
            "text/plain": [
              "tensor([ 1, 25,  9])"
            ]
          },
          "metadata": {},
          "execution_count": 86
        }
      ]
    },
    {
      "cell_type": "code",
      "source": [
        "torch.matmul(rand_tensor, rand_tensor)"
      ],
      "metadata": {
        "colab": {
          "base_uri": "https://localhost:8080/"
        },
        "id": "dgRAkYmSmVZj",
        "outputId": "349f9082-3d74-4952-f74f-a129ebb32720"
      },
      "execution_count": null,
      "outputs": [
        {
          "output_type": "execute_result",
          "data": {
            "text/plain": [
              "tensor(35)"
            ]
          },
          "metadata": {},
          "execution_count": 87
        }
      ]
    },
    {
      "cell_type": "code",
      "source": [
        "rand_tensor_2 = torch.tensor([[1,2,3],\n",
        " [5,1,6]])\n",
        "\n",
        "\n",
        "rand_tensor_2.shape"
      ],
      "metadata": {
        "colab": {
          "base_uri": "https://localhost:8080/"
        },
        "id": "71aEZ0NUmfEL",
        "outputId": "6ba23982-b009-4bb4-8c67-6ff6822921fd"
      },
      "execution_count": null,
      "outputs": [
        {
          "output_type": "execute_result",
          "data": {
            "text/plain": [
              "torch.Size([2, 3])"
            ]
          },
          "metadata": {},
          "execution_count": 88
        }
      ]
    },
    {
      "cell_type": "code",
      "source": [
        "rand_tensor_2.ndim"
      ],
      "metadata": {
        "colab": {
          "base_uri": "https://localhost:8080/"
        },
        "id": "NmyXaGofm1ZT",
        "outputId": "72249dce-2f67-4d65-a31d-bccea442a3d9"
      },
      "execution_count": null,
      "outputs": [
        {
          "output_type": "execute_result",
          "data": {
            "text/plain": [
              "2"
            ]
          },
          "metadata": {},
          "execution_count": 89
        }
      ]
    },
    {
      "cell_type": "code",
      "source": [
        "%%time\n",
        "value = 0\n",
        "for i in range(len(rand_tensor)):\n",
        "  value += rand_tensor[i] * rand_tensor[i]\n",
        "\n",
        "value"
      ],
      "metadata": {
        "colab": {
          "base_uri": "https://localhost:8080/"
        },
        "id": "x2HCwdM6m2-L",
        "outputId": "9a109cac-d595-4a7e-b255-1040dc599e67"
      },
      "execution_count": null,
      "outputs": [
        {
          "output_type": "stream",
          "name": "stdout",
          "text": [
            "CPU times: user 264 µs, sys: 0 ns, total: 264 µs\n",
            "Wall time: 270 µs\n"
          ]
        },
        {
          "output_type": "execute_result",
          "data": {
            "text/plain": [
              "tensor(35)"
            ]
          },
          "metadata": {},
          "execution_count": 90
        }
      ]
    },
    {
      "cell_type": "code",
      "source": [
        "%%time\n",
        "torch.matmul(rand_tensor, rand_tensor)"
      ],
      "metadata": {
        "colab": {
          "base_uri": "https://localhost:8080/"
        },
        "id": "KFyD2j_JnCUq",
        "outputId": "1ffced03-c6c7-44ec-e86e-ae7c4e44bd0f"
      },
      "execution_count": null,
      "outputs": [
        {
          "output_type": "stream",
          "name": "stdout",
          "text": [
            "CPU times: user 69 µs, sys: 4 µs, total: 73 µs\n",
            "Wall time: 77.7 µs\n"
          ]
        },
        {
          "output_type": "execute_result",
          "data": {
            "text/plain": [
              "tensor(35)"
            ]
          },
          "metadata": {},
          "execution_count": 91
        }
      ]
    },
    {
      "cell_type": "code",
      "source": [
        " # Finding the min, max, mean, sum, etc (tensor aggregation)\n",
        " test_tensor = torch.tensor([[5,6,7],[8,2,1]])\n",
        "\n",
        " test_tensor.min()"
      ],
      "metadata": {
        "colab": {
          "base_uri": "https://localhost:8080/"
        },
        "id": "pexSQi2fnuqK",
        "outputId": "59f09884-ea47-477c-bf74-746b7f288acd"
      },
      "execution_count": null,
      "outputs": [
        {
          "output_type": "execute_result",
          "data": {
            "text/plain": [
              "tensor(1)"
            ]
          },
          "metadata": {},
          "execution_count": 92
        }
      ]
    },
    {
      "cell_type": "code",
      "source": [
        "test_tensor.max()"
      ],
      "metadata": {
        "colab": {
          "base_uri": "https://localhost:8080/"
        },
        "id": "A2RqVgYDrUhM",
        "outputId": "6b2d239d-55fa-4f11-d966-0263ee514f10"
      },
      "execution_count": null,
      "outputs": [
        {
          "output_type": "execute_result",
          "data": {
            "text/plain": [
              "tensor(8)"
            ]
          },
          "metadata": {},
          "execution_count": 93
        }
      ]
    },
    {
      "cell_type": "code",
      "source": [
        "test_tensor.sum()"
      ],
      "metadata": {
        "colab": {
          "base_uri": "https://localhost:8080/"
        },
        "id": "Q6S78PhwrX7E",
        "outputId": "d717f156-01e2-4a75-90c0-7e19517bc97c"
      },
      "execution_count": null,
      "outputs": [
        {
          "output_type": "execute_result",
          "data": {
            "text/plain": [
              "tensor(29)"
            ]
          },
          "metadata": {},
          "execution_count": 94
        }
      ]
    },
    {
      "cell_type": "code",
      "source": [
        "test_tensor.type(torch.float32).mean()"
      ],
      "metadata": {
        "colab": {
          "base_uri": "https://localhost:8080/"
        },
        "id": "CpbEyQZprahk",
        "outputId": "a7a4f3e3-bbd2-43d0-dd9d-80f926614472"
      },
      "execution_count": null,
      "outputs": [
        {
          "output_type": "execute_result",
          "data": {
            "text/plain": [
              "tensor(4.8333)"
            ]
          },
          "metadata": {},
          "execution_count": 95
        }
      ]
    },
    {
      "cell_type": "markdown",
      "source": [],
      "metadata": {
        "id": "QeoVwT2Ut4Aw"
      }
    },
    {
      "cell_type": "code",
      "source": [
        "test_tensor.argmax()"
      ],
      "metadata": {
        "colab": {
          "base_uri": "https://localhost:8080/"
        },
        "id": "Nr9wi13Ornd8",
        "outputId": "a6607da4-8f94-4ecb-e2b7-36c0d5dbc007"
      },
      "execution_count": null,
      "outputs": [
        {
          "output_type": "execute_result",
          "data": {
            "text/plain": [
              "tensor(3)"
            ]
          },
          "metadata": {},
          "execution_count": 96
        }
      ]
    },
    {
      "cell_type": "code",
      "source": [
        "x = torch.arange(1, 10)\n"
      ],
      "metadata": {
        "id": "MU-rI4Udsh-S"
      },
      "execution_count": null,
      "outputs": []
    },
    {
      "cell_type": "code",
      "source": [
        "x, x.shape"
      ],
      "metadata": {
        "colab": {
          "base_uri": "https://localhost:8080/"
        },
        "id": "E2ehWbuUyvyK",
        "outputId": "0cf63ad8-659b-4a42-ae98-5c513d601438"
      },
      "execution_count": null,
      "outputs": [
        {
          "output_type": "execute_result",
          "data": {
            "text/plain": [
              "(tensor([1, 2, 3, 4, 5, 6, 7, 8, 9]), torch.Size([9]))"
            ]
          },
          "metadata": {},
          "execution_count": 98
        }
      ]
    },
    {
      "cell_type": "code",
      "source": [
        "x.reshape(3,3)"
      ],
      "metadata": {
        "colab": {
          "base_uri": "https://localhost:8080/"
        },
        "id": "gpKEQbu5yv1R",
        "outputId": "ca5de362-e951-4be6-88fa-c64d7778af75"
      },
      "execution_count": null,
      "outputs": [
        {
          "output_type": "execute_result",
          "data": {
            "text/plain": [
              "tensor([[1, 2, 3],\n",
              "        [4, 5, 6],\n",
              "        [7, 8, 9]])"
            ]
          },
          "metadata": {},
          "execution_count": 100
        }
      ]
    },
    {
      "cell_type": "code",
      "source": [
        "# View is going to share the same memory as the original one.\n"
      ],
      "metadata": {
        "id": "SXTY9dpjyv5A"
      },
      "execution_count": null,
      "outputs": []
    },
    {
      "cell_type": "code",
      "source": [
        "x_stacked = torch.stack([x,x,x], dim=0)\n",
        "x_stacked"
      ],
      "metadata": {
        "colab": {
          "base_uri": "https://localhost:8080/"
        },
        "id": "HNvs0Xuyyv70",
        "outputId": "94aca93a-b9a4-4c84-9aba-2ef610496a4b"
      },
      "execution_count": null,
      "outputs": [
        {
          "output_type": "execute_result",
          "data": {
            "text/plain": [
              "tensor([[1, 2, 3, 4, 5, 6, 7, 8, 9],\n",
              "        [1, 2, 3, 4, 5, 6, 7, 8, 9],\n",
              "        [1, 2, 3, 4, 5, 6, 7, 8, 9]])"
            ]
          },
          "metadata": {},
          "execution_count": 103
        }
      ]
    },
    {
      "cell_type": "code",
      "source": [
        "x_squeezed = x.squeeze()\n",
        "x_squeezed"
      ],
      "metadata": {
        "colab": {
          "base_uri": "https://localhost:8080/"
        },
        "id": "3RpAj7810gOu",
        "outputId": "91ac052b-6b1a-4b27-c37c-301094accb3d"
      },
      "execution_count": null,
      "outputs": [
        {
          "output_type": "execute_result",
          "data": {
            "text/plain": [
              "tensor([1, 2, 3, 4, 5, 6, 7, 8, 9])"
            ]
          },
          "metadata": {},
          "execution_count": 104
        }
      ]
    },
    {
      "cell_type": "code",
      "source": [
        "x_squeezed.unsqueeze(-2)"
      ],
      "metadata": {
        "colab": {
          "base_uri": "https://localhost:8080/"
        },
        "id": "o2Bs_FKR05Sc",
        "outputId": "d762a406-fde6-4987-cfe4-2f922c4f649a"
      },
      "execution_count": null,
      "outputs": [
        {
          "output_type": "execute_result",
          "data": {
            "text/plain": [
              "tensor([[1, 2, 3, 4, 5, 6, 7, 8, 9]])"
            ]
          },
          "metadata": {},
          "execution_count": 112
        }
      ]
    },
    {
      "cell_type": "code",
      "source": [
        "# squeeze removes all the single dimension of a tensor\n",
        "# unsqueeze adds one sinlgle dimension to a tensor\n"
      ],
      "metadata": {
        "id": "CWJF0gca0_Zt"
      },
      "execution_count": null,
      "outputs": []
    },
    {
      "cell_type": "code",
      "source": [
        "a_rand_tensor = torch.rand(5,6)"
      ],
      "metadata": {
        "id": "4DkWaLl23tbh"
      },
      "execution_count": null,
      "outputs": []
    },
    {
      "cell_type": "code",
      "source": [
        "a_rand_tensor"
      ],
      "metadata": {
        "colab": {
          "base_uri": "https://localhost:8080/"
        },
        "id": "94zIOhvs3te2",
        "outputId": "90f80aa7-f8d3-46f5-90ba-eafe083f101d"
      },
      "execution_count": null,
      "outputs": [
        {
          "output_type": "execute_result",
          "data": {
            "text/plain": [
              "tensor([[0.1862, 0.7051, 0.3896, 0.1318, 0.9438, 0.3179],\n",
              "        [0.2360, 0.0623, 0.2537, 0.1060, 0.0594, 0.6840],\n",
              "        [0.8609, 0.1847, 0.3812, 0.1773, 0.2449, 0.6150],\n",
              "        [0.5154, 0.0105, 0.5542, 0.9386, 0.4118, 0.7637],\n",
              "        [0.1921, 0.8393, 0.6612, 0.7005, 0.2508, 0.4242]])"
            ]
          },
          "metadata": {},
          "execution_count": 114
        }
      ]
    },
    {
      "cell_type": "code",
      "source": [
        "a_rand_tensor[1][2]"
      ],
      "metadata": {
        "colab": {
          "base_uri": "https://localhost:8080/"
        },
        "id": "gMJJD1z23tjw",
        "outputId": "c3fe1878-9306-44c4-eb0f-7a23578ce14f"
      },
      "execution_count": null,
      "outputs": [
        {
          "output_type": "execute_result",
          "data": {
            "text/plain": [
              "tensor(0.2537)"
            ]
          },
          "metadata": {},
          "execution_count": 115
        }
      ]
    },
    {
      "cell_type": "code",
      "source": [
        "a_rand_tensor[1, :]"
      ],
      "metadata": {
        "colab": {
          "base_uri": "https://localhost:8080/"
        },
        "id": "keau52V03tlk",
        "outputId": "7660002c-13ff-42c3-81b9-c16944511b55"
      },
      "execution_count": null,
      "outputs": [
        {
          "output_type": "execute_result",
          "data": {
            "text/plain": [
              "tensor([0.2360, 0.0623, 0.2537, 0.1060, 0.0594, 0.6840])"
            ]
          },
          "metadata": {},
          "execution_count": 117
        }
      ]
    },
    {
      "cell_type": "code",
      "source": [
        "# Random seed\n",
        "RANDOM_SEED = 42\n",
        "\n",
        "torch.manual_seed(RANDOM_SEED)\n",
        "random_tensor_c = torch.rand(3,4)\n",
        "\n",
        "torch.manual_seed(RANDOM_SEED)\n",
        "random_tensor_d = torch.rand(3,4)\n",
        "\n",
        "print(random_tensor_c)\n",
        "print(random_tensor_d)\n",
        "print(random_tensor_c == random_tensor_d)\n",
        "\n"
      ],
      "metadata": {
        "colab": {
          "base_uri": "https://localhost:8080/"
        },
        "id": "GZtTEigo3toa",
        "outputId": "9d06a17f-464f-4eff-e535-f2a53ecd9211"
      },
      "execution_count": null,
      "outputs": [
        {
          "output_type": "stream",
          "name": "stdout",
          "text": [
            "tensor([[0.8823, 0.9150, 0.3829, 0.9593],\n",
            "        [0.3904, 0.6009, 0.2566, 0.7936],\n",
            "        [0.9408, 0.1332, 0.9346, 0.5936]])\n",
            "tensor([[0.8823, 0.9150, 0.3829, 0.9593],\n",
            "        [0.3904, 0.6009, 0.2566, 0.7936],\n",
            "        [0.9408, 0.1332, 0.9346, 0.5936]])\n",
            "tensor([[True, True, True, True],\n",
            "        [True, True, True, True],\n",
            "        [True, True, True, True]])\n"
          ]
        }
      ]
    },
    {
      "cell_type": "code",
      "source": [],
      "metadata": {
        "id": "1IAMQRa73tr0"
      },
      "execution_count": null,
      "outputs": []
    }
  ]
}